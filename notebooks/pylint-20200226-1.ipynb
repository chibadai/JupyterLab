{
 "cells": [
  {
   "cell_type": "code",
   "execution_count": 3,
   "metadata": {},
   "outputs": [],
   "source": [
    "import sys\n",
    "def run_pyreverse():\n",
    "    \"\"\"run pyreverse\"\"\"\n",
    "    from pylint.pyreverse.main import Run\n",
    "    Run(sys.argv[1:])"
   ]
  },
  {
   "cell_type": "code",
   "execution_count": 4,
   "metadata": {},
   "outputs": [
    {
     "name": "stdout",
     "output_type": "stream",
     "text": [
      "Usage: \n",
      "  ipykernel_launcher.py [options] <packages>\n",
      "\n",
      "  create UML diagrams for classes and modules in <packages>\n",
      "\n",
      "\n",
      "Options:\n",
      "  -h, --help            show this help message and exit\n",
      "  -f <mode>, --filter-mode=<mode>\n",
      "                        filter attributes and functions according to\n",
      "                        <mode>. Correct modes are :\n",
      "                        'PUB_ONLY' filter all non public attributes\n",
      "                        [DEFAULT], equivalent to PRIVATE+SPECIAL_A\n",
      "                        'ALL' no filter                             'SPECIAL'\n",
      "                        filter Python special functions\n",
      "                        except constructor                             'OTHER'\n",
      "                        filter protected and private\n",
      "                        attributes [current: /Users/dai/Library/Jupyter/runtim\n",
      "                        e/kernel-d85cffb7-025d-411e-b8a0-ca119bfbbc30.json]\n",
      "  -c <class>, --class=<class>\n",
      "                        create a class diagram with all classes related to\n",
      "                        <class>; this uses by default the options -ASmy\n",
      "                        [current: none]\n",
      "  -a <ancestor>, --show-ancestors=<ancestor>\n",
      "                        show <ancestor> generations of ancestor classes not in\n",
      "                        <projects>\n",
      "  -A, --all-ancestors   show all ancestors off all classes in <projects>\n",
      "  -s <association_level>, --show-associated=<association_level>\n",
      "                        show <association_level> levels of associated classes\n",
      "                        not in <projects>\n",
      "  -S, --all-associated  show recursively all associated off all associated\n",
      "                        classes\n",
      "  -b, --show-builtin    include builtin objects in representation of classes\n",
      "  -m [yn], --module-names=[yn]\n",
      "                        include module name in representation of classes\n",
      "  -k, --only-classnames\n",
      "                        don't show attributes and methods in the class boxes;\n",
      "                        this disables -f values\n",
      "  -o <format>, --output=<format>\n",
      "                        create a *.<format> output file if format available.\n",
      "                        [current: dot]\n",
      "  --ignore=<file[,file...]>\n",
      "                        Add files or directories to the blacklist. They should\n",
      "                        be base names, not paths. [current: CVS]\n",
      "  -p <project name>, --project=<project name>\n",
      "                        set the project name. [current: none]\n",
      "\n"
     ]
    },
    {
     "ename": "SystemExit",
     "evalue": "1",
     "output_type": "error",
     "traceback": [
      "An exception has occurred, use %tb to see the full traceback.\n",
      "\u001b[0;31mSystemExit\u001b[0m\u001b[0;31m:\u001b[0m 1\n"
     ]
    },
    {
     "name": "stderr",
     "output_type": "stream",
     "text": [
      "/Users/dai/.pyenv/versions/3.7.4/lib/python3.7/site-packages/IPython/core/interactiveshell.py:3339: UserWarning: To exit: use 'exit', 'quit', or Ctrl-D.\n",
      "  warn(\"To exit: use 'exit', 'quit', or Ctrl-D.\", stacklevel=1)\n"
     ]
    }
   ],
   "source": [
    "run_pyreverse()"
   ]
  },
  {
   "cell_type": "code",
   "execution_count": 5,
   "metadata": {},
   "outputs": [
    {
     "name": "stdout",
     "output_type": "stream",
     "text": [
      "Format: \"xxx\" not recognized. Use one of: bmp canon cgimage cmap cmapx cmapx_np dot dot_json eps exr fig gd gd2 gif gv icns ico imap imap_np ismap jp2 jpe jpeg jpg json json0 mp pct pdf pic pict plain plain-ext png pov ps ps2 psd sgi svg svgz tga tif tiff tk vdx vml vmlz vrml wbmp xdot xdot1.2 xdot1.4 xdot_json\n"
     ]
    }
   ],
   "source": [
    "!dot -Txxx"
   ]
  },
  {
   "cell_type": "code",
   "execution_count": 6,
   "metadata": {},
   "outputs": [
    {
     "name": "stdout",
     "output_type": "stream",
     "text": [
      "parsing /Users/dai/.pyenv/versions/3.7.4/lib/python3.7/site-packages/pylint/pyreverse/__init__.py...\n",
      "parsing /Users/dai/.pyenv/versions/3.7.4/lib/python3.7/site-packages/pylint/pyreverse/inspector.py...\n",
      "parsing /Users/dai/.pyenv/versions/3.7.4/lib/python3.7/site-packages/pylint/pyreverse/__init__.py...\n",
      "parsing /Users/dai/.pyenv/versions/3.7.4/lib/python3.7/site-packages/pylint/pyreverse/vcgutils.py...\n",
      "parsing /Users/dai/.pyenv/versions/3.7.4/lib/python3.7/site-packages/pylint/pyreverse/utils.py...\n",
      "parsing /Users/dai/.pyenv/versions/3.7.4/lib/python3.7/site-packages/pylint/pyreverse/diadefslib.py...\n",
      "parsing /Users/dai/.pyenv/versions/3.7.4/lib/python3.7/site-packages/pylint/pyreverse/writer.py...\n",
      "parsing /Users/dai/.pyenv/versions/3.7.4/lib/python3.7/site-packages/pylint/pyreverse/diagrams.py...\n",
      "parsing /Users/dai/.pyenv/versions/3.7.4/lib/python3.7/site-packages/pylint/pyreverse/main.py...\n"
     ]
    }
   ],
   "source": [
    "!pyreverse -o png -p Pyreverse pylint/pyreverse/"
   ]
  },
  {
   "cell_type": "code",
   "execution_count": 8,
   "metadata": {},
   "outputs": [
    {
     "name": "stdout",
     "output_type": "stream",
     "text": [
      "parsing /Users/dai/.pyenv/versions/3.7.4/lib/python3.7/site-packages/pylint/pyreverse/__init__.py...\n",
      "parsing /Users/dai/.pyenv/versions/3.7.4/lib/python3.7/site-packages/pylint/pyreverse/inspector.py...\n",
      "parsing /Users/dai/.pyenv/versions/3.7.4/lib/python3.7/site-packages/pylint/pyreverse/__init__.py...\n",
      "parsing /Users/dai/.pyenv/versions/3.7.4/lib/python3.7/site-packages/pylint/pyreverse/vcgutils.py...\n",
      "parsing /Users/dai/.pyenv/versions/3.7.4/lib/python3.7/site-packages/pylint/pyreverse/utils.py...\n",
      "parsing /Users/dai/.pyenv/versions/3.7.4/lib/python3.7/site-packages/pylint/pyreverse/diadefslib.py...\n",
      "parsing /Users/dai/.pyenv/versions/3.7.4/lib/python3.7/site-packages/pylint/pyreverse/writer.py...\n",
      "parsing /Users/dai/.pyenv/versions/3.7.4/lib/python3.7/site-packages/pylint/pyreverse/diagrams.py...\n",
      "parsing /Users/dai/.pyenv/versions/3.7.4/lib/python3.7/site-packages/pylint/pyreverse/main.py...\n"
     ]
    }
   ],
   "source": [
    "!pyreverse -o png -f ALL -p Pyreverse pylint/pyreverse/"
   ]
  },
  {
   "cell_type": "code",
   "execution_count": 9,
   "metadata": {},
   "outputs": [
    {
     "name": "stdout",
     "output_type": "stream",
     "text": [
      "parsing /Users/dai/.pyenv/versions/3.7.4/lib/python3.7/site-packages/pylint/pyreverse/__init__.py...\n",
      "parsing /Users/dai/.pyenv/versions/3.7.4/lib/python3.7/site-packages/pylint/pyreverse/inspector.py...\n",
      "parsing /Users/dai/.pyenv/versions/3.7.4/lib/python3.7/site-packages/pylint/pyreverse/__init__.py...\n",
      "parsing /Users/dai/.pyenv/versions/3.7.4/lib/python3.7/site-packages/pylint/pyreverse/vcgutils.py...\n",
      "parsing /Users/dai/.pyenv/versions/3.7.4/lib/python3.7/site-packages/pylint/pyreverse/utils.py...\n",
      "parsing /Users/dai/.pyenv/versions/3.7.4/lib/python3.7/site-packages/pylint/pyreverse/diadefslib.py...\n",
      "parsing /Users/dai/.pyenv/versions/3.7.4/lib/python3.7/site-packages/pylint/pyreverse/writer.py...\n",
      "parsing /Users/dai/.pyenv/versions/3.7.4/lib/python3.7/site-packages/pylint/pyreverse/diagrams.py...\n",
      "parsing /Users/dai/.pyenv/versions/3.7.4/lib/python3.7/site-packages/pylint/pyreverse/main.py...\n"
     ]
    }
   ],
   "source": [
    "!pyreverse -o svg -f ALL -p Pyreverse pylint/pyreverse/"
   ]
  },
  {
   "cell_type": "code",
   "execution_count": 10,
   "metadata": {},
   "outputs": [
    {
     "name": "stdout",
     "output_type": "stream",
     "text": [
      "Name: pylint\n",
      "Version: 2.4.4\n",
      "Summary: python code static checker\n",
      "Home-page: https://github.com/PyCQA/pylint\n",
      "Author: Python Code Quality Authority\n",
      "Author-email: code-quality@python.org\n",
      "License: GPL\n",
      "Location: /Users/dai/.pyenv/versions/3.7.4/lib/python3.7/site-packages\n",
      "Requires: astroid, mccabe, isort\n",
      "Required-by: \n"
     ]
    }
   ],
   "source": [
    "!pip show pylint"
   ]
  },
  {
   "cell_type": "code",
   "execution_count": 11,
   "metadata": {},
   "outputs": [],
   "source": [
    "import inspect"
   ]
  },
  {
   "cell_type": "code",
   "execution_count": 12,
   "metadata": {},
   "outputs": [],
   "source": [
    "import pylint"
   ]
  },
  {
   "cell_type": "code",
   "execution_count": 16,
   "metadata": {},
   "outputs": [
    {
     "name": "stdout",
     "output_type": "stream",
     "text": [
      "# Copyright (c) 2008, 2012 LOGILAB S.A. (Paris, FRANCE) <contact@logilab.fr>\n",
      "# Copyright (c) 2014, 2016-2017 Claudiu Popa <pcmanticore@gmail.com>\n",
      "# Copyright (c) 2014 Arun Persaud <arun@nubati.net>\n",
      "# Copyright (c) 2015 Ionel Cristian Maries <contact@ionelmc.ro>\n",
      "# Copyright (c) 2018 Nick Drozd <nicholasdrozd@gmail.com>\n",
      "\n",
      "# Licensed under the GPL: https://www.gnu.org/licenses/old-licenses/gpl-2.0.html\n",
      "# For details: https://github.com/PyCQA/pylint/blob/master/COPYING\n",
      "\n",
      "import sys\n",
      "\n",
      "from pylint.__pkginfo__ import version as __version__\n",
      "from pylint.checkers.similar import Run as SimilarRun\n",
      "from pylint.epylint import Run as EpylintRun\n",
      "from pylint.lint import Run as PylintRun\n",
      "from pylint.pyreverse.main import Run as PyreverseRun\n",
      "\n",
      "\n",
      "def run_pylint():\n",
      "    \"\"\"run pylint\"\"\"\n",
      "\n",
      "    try:\n",
      "        PylintRun(sys.argv[1:])\n",
      "    except KeyboardInterrupt:\n",
      "        sys.exit(1)\n",
      "\n",
      "\n",
      "def run_epylint():\n",
      "    \"\"\"run pylint\"\"\"\n",
      "\n",
      "    EpylintRun()\n",
      "\n",
      "\n",
      "def run_pyreverse():\n",
      "    \"\"\"run pyreverse\"\"\"\n",
      "\n",
      "    PyreverseRun(sys.argv[1:])\n",
      "\n",
      "\n",
      "def run_symilar():\n",
      "    \"\"\"run symilar\"\"\"\n",
      "\n",
      "    SimilarRun(sys.argv[1:])\n",
      "\n"
     ]
    }
   ],
   "source": [
    "print(inspect.getsource(pylint))"
   ]
  },
  {
   "cell_type": "code",
   "execution_count": 17,
   "metadata": {},
   "outputs": [
    {
     "name": "stdout",
     "output_type": "stream",
     "text": [
      "class Run(ConfigurationMixIn):\n",
      "    \"\"\"base class providing common behaviour for pyreverse commands\"\"\"\n",
      "\n",
      "    options = OPTIONS  # type: ignore\n",
      "\n",
      "    def __init__(self, args):\n",
      "        ConfigurationMixIn.__init__(self, usage=__doc__)\n",
      "        insert_default_options()\n",
      "        args = self.load_command_line_configuration()\n",
      "        if self.config.output_format not in (\"dot\", \"vcg\"):\n",
      "            _check_graphviz_available(self.config.output_format)\n",
      "\n",
      "        sys.exit(self.run(args))\n",
      "\n",
      "    def run(self, args):\n",
      "        \"\"\"checking arguments and run project\"\"\"\n",
      "        if not args:\n",
      "            print(self.help())\n",
      "            return 1\n",
      "        # insert current working directory to the python path to recognize\n",
      "        # dependencies to local modules even if cwd is not in the PYTHONPATH\n",
      "        sys.path.insert(0, os.getcwd())\n",
      "        try:\n",
      "            project = project_from_files(\n",
      "                args,\n",
      "                project_name=self.config.project,\n",
      "                black_list=self.config.black_list,\n",
      "            )\n",
      "            linker = Linker(project, tag=True)\n",
      "            handler = DiadefsHandler(self.config)\n",
      "            diadefs = handler.get_diadefs(project, linker)\n",
      "        finally:\n",
      "            sys.path.pop(0)\n",
      "\n",
      "        if self.config.output_format == \"vcg\":\n",
      "            writer.VCGWriter(self.config).write(diadefs)\n",
      "        else:\n",
      "            writer.DotWriter(self.config).write(diadefs)\n",
      "        return 0\n",
      "\n"
     ]
    }
   ],
   "source": [
    "print(inspect.getsource(pylint.PyreverseRun))"
   ]
  },
  {
   "cell_type": "code",
   "execution_count": 14,
   "metadata": {},
   "outputs": [
    {
     "data": {
      "text/plain": [
       "['__class__',\n",
       " '__delattr__',\n",
       " '__dict__',\n",
       " '__dir__',\n",
       " '__doc__',\n",
       " '__eq__',\n",
       " '__format__',\n",
       " '__ge__',\n",
       " '__getattribute__',\n",
       " '__gt__',\n",
       " '__hash__',\n",
       " '__init__',\n",
       " '__init_subclass__',\n",
       " '__le__',\n",
       " '__lt__',\n",
       " '__module__',\n",
       " '__ne__',\n",
       " '__new__',\n",
       " '__reduce__',\n",
       " '__reduce_ex__',\n",
       " '__repr__',\n",
       " '__setattr__',\n",
       " '__sizeof__',\n",
       " '__str__',\n",
       " '__subclasshook__',\n",
       " '__weakref__',\n",
       " 'add_help_section',\n",
       " 'add_optik_option',\n",
       " 'add_option_group',\n",
       " 'cb_set_provider_option',\n",
       " 'generate_config',\n",
       " 'generate_manpage',\n",
       " 'get_option_def',\n",
       " 'global_set_option',\n",
       " 'help',\n",
       " 'level',\n",
       " 'load_command_line_configuration',\n",
       " 'load_config_file',\n",
       " 'load_configuration',\n",
       " 'load_configuration_from_config',\n",
       " 'load_defaults',\n",
       " 'load_provider_defaults',\n",
       " 'name',\n",
       " 'optik_option',\n",
       " 'option_attrname',\n",
       " 'option_value',\n",
       " 'options',\n",
       " 'options_and_values',\n",
       " 'options_by_section',\n",
       " 'priority',\n",
       " 'read_config_file',\n",
       " 'register_options_provider',\n",
       " 'reset_parsers',\n",
       " 'run',\n",
       " 'set_option']"
      ]
     },
     "execution_count": 14,
     "metadata": {},
     "output_type": "execute_result"
    }
   ],
   "source": [
    "dir(pylint.PyreverseRun)"
   ]
  },
  {
   "cell_type": "code",
   "execution_count": 21,
   "metadata": {},
   "outputs": [
    {
     "ename": "NameError",
     "evalue": "name 'ConfigurationMixIn' is not defined",
     "output_type": "error",
     "traceback": [
      "\u001b[0;31m---------------------------------------------------------------------------\u001b[0m",
      "\u001b[0;31mNameError\u001b[0m                                 Traceback (most recent call last)",
      "\u001b[0;32m<ipython-input-21-f3c464a478f3>\u001b[0m in \u001b[0;36m<module>\u001b[0;34m\u001b[0m\n\u001b[0;32m----> 1\u001b[0;31m \u001b[0mprint\u001b[0m\u001b[0;34m(\u001b[0m\u001b[0minspect\u001b[0m\u001b[0;34m.\u001b[0m\u001b[0mgetsource\u001b[0m\u001b[0;34m(\u001b[0m\u001b[0mpylint\u001b[0m\u001b[0;34m.\u001b[0m\u001b[0mPyreverseRun\u001b[0m\u001b[0;34m(\u001b[0m\u001b[0mConfigurationMixIn\u001b[0m\u001b[0;34m)\u001b[0m\u001b[0;34m)\u001b[0m\u001b[0;34m)\u001b[0m\u001b[0;34m\u001b[0m\u001b[0;34m\u001b[0m\u001b[0m\n\u001b[0m",
      "\u001b[0;31mNameError\u001b[0m: name 'ConfigurationMixIn' is not defined"
     ]
    }
   ],
   "source": [
    "print(inspect.getsource(pylint.PyreverseRun(ConfigurationMixIn)))"
   ]
  },
  {
   "cell_type": "code",
   "execution_count": null,
   "metadata": {},
   "outputs": [],
   "source": []
  }
 ],
 "metadata": {
  "kernelspec": {
   "display_name": "Python 3",
   "language": "python",
   "name": "python3"
  },
  "language_info": {
   "codemirror_mode": {
    "name": "ipython",
    "version": 3
   },
   "file_extension": ".py",
   "mimetype": "text/x-python",
   "name": "python",
   "nbconvert_exporter": "python",
   "pygments_lexer": "ipython3",
   "version": "3.7.4"
  }
 },
 "nbformat": 4,
 "nbformat_minor": 4
}
